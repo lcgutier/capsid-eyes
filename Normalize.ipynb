{
 "cells": [
  {
   "cell_type": "markdown",
   "metadata": {},
   "source": [
    "# Import Necessary Libraries"
   ]
  },
  {
   "cell_type": "code",
   "execution_count": null,
   "metadata": {},
   "outputs": [],
   "source": [
    "import numpy as np\n",
    "from PIL import Image\n",
    "\n",
    "# for joining files paths for tif images\n",
    "import os\n",
    "\n",
    "# for removing the background\n",
    "import cv2\n",
    "from cv2_rolling_ball import subtract_background_rolling_ball"
   ]
  },
  {
   "cell_type": "markdown",
   "metadata": {},
   "source": [
    "# Normalizing all Images in Batches\n",
    "\n",
    "The 100% full cryo images were normalized as:\n",
    "1) Rolling Ball 200\n",
    "2) CLAHE: clipsize= 2.0, tilesize= 8.0\n",
    "\n",
    "The 100% empty cryo images were normalized as:\n",
    "1) CLAHE: clipsize= 2.0, tilesize= 8.0\n",
    "2) Rolling Ball 200\n",
    "3) CLAHE: clipsize= 2.0, tilesize= 100"
   ]
  },
  {
   "cell_type": "markdown",
   "metadata": {},
   "source": [
    "### Specify File Paths and Batch Size"
   ]
  },
  {
   "cell_type": "code",
   "execution_count": null,
   "metadata": {},
   "outputs": [],
   "source": [
    "####################################### Load the Data ########################################\n",
    "\n",
    "img_path = \"your_path_here\"                                                                                                                                    # change\n",
    "save_CLAHE_path = \"your_path_here\"                                                                                                                             # change\n",
    "full_empty = \"name_of_your_data_here\"                                                                                                                          # change\n",
    "\n",
    "idx_last_batch = 0                                                                                                                                             # change\n",
    "num_images_this_batch = 130                                                                                                                                    # change\n",
    "idx_end_this_batch = idx_last_batch + num_images_this_batch + 1\n",
    "idx_end_this_batch"
   ]
  },
  {
   "cell_type": "markdown",
   "metadata": {},
   "source": [
    "### Normalizing the Images"
   ]
  },
  {
   "cell_type": "code",
   "execution_count": null,
   "metadata": {},
   "outputs": [],
   "source": [
    "# Convert Tiffs to RGB Images with 3 channels\n",
    "# Note: These images have been resized to contain 3 channels they have also been converted \n",
    "\n",
    "######################## Resize the images to 3 channels ########################################\n",
    "\n",
    "resized_images = []\n",
    "\n",
    "print(\"Resizing the images to 3 channels...\")\n",
    "# loop over all the images\n",
    "# use the next 130 images after 250 \n",
    "for i, file in enumerate(os.listdir(img_path)[idx_last_batch:idx_end_this_batch]):\n",
    "\n",
    "    # Construct the full path to the image\n",
    "    \n",
    "    # only read in the tif files\n",
    "    if not file.endswith(\".tif\"):\n",
    "        # if continue then the for loop will go to the next iteration\n",
    "        continue\n",
    "    \n",
    "    img_full_path = os.path.join(img_path, file)\n",
    "\n",
    "    # Open the image and convert it to an array\n",
    "    img_rgb = Image.open(img_full_path)\n",
    "    img_rgb = np.array(img_rgb).astype(np.uint8)\n",
    "\n",
    "    # Duplicate the first channel into 3 channels\n",
    "    img_rgb = np.repeat(img_rgb[:, :, np.newaxis], 3, axis=2)\n",
    "    \n",
    "    # save the image in the list\n",
    "    resized_images.append(img_rgb)\n",
    "    \n",
    "print(\"Applying CLAHE to the images...\")\n",
    "# Process each image from the list and save each image as you go\n",
    "for i, img_rgb in enumerate(resized_images):\n",
    "    # Define the image\n",
    "    # Convert the image to LAB\n",
    "    lab_img = cv2.cvtColor(img_rgb, cv2.COLOR_BGR2LAB)\n",
    "    l, a, b = cv2.split(lab_img)\n",
    "    l = np.array(l, dtype=np.uint8)\n",
    "\n",
    "    ############################# Apply CLAHE once to the image ########################################\n",
    "    final_img = l\n",
    "\n",
    "    # Apply CLAHE to the image\n",
    "    clahe = cv2.createCLAHE(clipLimit=2.0, tileGridSize=(8, 8))\n",
    "    clahe1_img = clahe.apply(final_img)\n",
    "    \n",
    "    ############################# Apply Rolling Ball to the image ########################################\n",
    "    radius = 200\n",
    "    rolling_ball_img, background = subtract_background_rolling_ball(clahe1_img, radius, light_background=True, use_paraboloid=False,\n",
    "                                                             do_presmooth=True)\n",
    "    \n",
    "    ############################# Apply CLAHE a second time to the image ########################################\n",
    "    clahe = cv2.createCLAHE(clipLimit=2.0, tileGridSize=(100, 100))\n",
    "    clahe2_img = clahe.apply(rolling_ball_img)\n",
    "\n",
    "    # Convert the image to RGB    \n",
    "    clahe_img_rgb = cv2.cvtColor(clahe2_img, cv2.COLOR_GRAY2RGB)\n",
    "    \n",
    "    # Save only the first channel\n",
    "    clahe_img_rgb_1c = clahe_img_rgb[:, :, 0]\n",
    "\n",
    "    # Save the image as a tif file\n",
    "    image_save_CLAHE_path = os.path.join(save_CLAHE_path, \"Cryo_CLAHE_\" + full_empty + str(i+idx_last_batch+1) + \".tif\")\n",
    "    cv2.imwrite(image_save_CLAHE_path, clahe_img_rgb_1c)\n"
   ]
  },
  {
   "cell_type": "code",
   "execution_count": null,
   "metadata": {},
   "outputs": [],
   "source": []
  }
 ],
 "metadata": {
  "kernelspec": {
   "display_name": "backup_env",
   "language": "python",
   "name": "python3"
  },
  "language_info": {
   "codemirror_mode": {
    "name": "ipython",
    "version": 3
   },
   "file_extension": ".py",
   "mimetype": "text/x-python",
   "name": "python",
   "nbconvert_exporter": "python",
   "pygments_lexer": "ipython3",
   "version": "3.9.18"
  }
 },
 "nbformat": 4,
 "nbformat_minor": 2
}
